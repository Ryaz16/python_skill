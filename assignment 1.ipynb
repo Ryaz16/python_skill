{
 "cells": [
  {
   "cell_type": "code",
   "execution_count": 42,
   "metadata": {},
   "outputs": [
    {
     "name": "stdout",
     "output_type": "stream",
     "text": [
      "<class 'str'>\n",
      "<class 'list'>\n",
      "<class 'float'>\n",
      "<class 'tuple'>\n"
     ]
    }
   ],
   "source": [
    "#Q1. Create one variable containing following type of data:\n",
    "#(i) string\n",
    "#(ii) list\n",
    "#(iii) float\n",
    "#(iv) tuple\n",
    "\n",
    "#(i) string\n",
    "a = \"Hello pwskills \"\n",
    "print(type(a))\n",
    "\n",
    "#(ii) list\n",
    "list = [1,2,3,4,5,\"ryaz\",2.33,True,False]\n",
    "print(type(list))\n",
    "\n",
    "#(iii) float\n",
    "b = 22.30\n",
    "print(type(b))\n",
    "\n",
    "\n",
    "#(iv) tuple\n",
    "t = (1,2,3,True,22.22)\n",
    "print(type(t))"
   ]
  },
  {
   "cell_type": "code",
   "execution_count": 43,
   "metadata": {},
   "outputs": [
    {
     "data": {
      "text/plain": [
       "int"
      ]
     },
     "execution_count": 43,
     "metadata": {},
     "output_type": "execute_result"
    }
   ],
   "source": [
    "#Q2. Given are some following variables containing data:\n",
    "\n",
    "#(i) var1 = ‘ ‘ ---> string\n",
    "\n",
    "#(ii) var2 = ‘[ DS , ML , Python]’ ----> string\n",
    "\n",
    "#(iii) var3 = [ ‘DS’ , ’ML’ , ‘Python’ ] ---> list\n",
    "\n",
    "#(iv) var4 = 1 ---> integer\n",
    "      #What will be the data type of the above given variable.\n",
    "\n",
    "#Ans:\n",
    "str\n",
    "str\n",
    "list\n",
    "int\n"
   ]
  },
  {
   "cell_type": "code",
   "execution_count": 44,
   "metadata": {},
   "outputs": [
    {
     "name": "stdout",
     "output_type": "stream",
     "text": [
      "0.5\n",
      "5\n",
      "0\n",
      "16\n"
     ]
    }
   ],
   "source": [
    "#Q3. Explain the use of the following operators using an example:\n",
    "#(i) / -->divide\n",
    "#(ii) % --> modulus\n",
    "#(iii) // --> integer division\n",
    "#(iv) **  -->exponential power form\n",
    "\n",
    "a = 5/10\n",
    "print(a)\n",
    "\n",
    "b = 5%20\n",
    "print(b)\n",
    "\n",
    "c = 5//10\n",
    "print(c)\n",
    "\n",
    "d = 4**2\n",
    "print(d)\n",
    "\n"
   ]
  },
  {
   "cell_type": "code",
   "execution_count": 50,
   "metadata": {},
   "outputs": [
    {
     "name": "stdout",
     "output_type": "stream",
     "text": [
      "1\n",
      "<class 'int'>\n",
      "2\n",
      "<class 'int'>\n",
      "3\n",
      "<class 'int'>\n",
      "4\n",
      "<class 'int'>\n",
      "5\n",
      "<class 'int'>\n",
      "6\n",
      "<class 'int'>\n",
      "ryaz\n",
      "<class 'str'>\n",
      "True\n",
      "<class 'bool'>\n",
      "False\n",
      "<class 'bool'>\n",
      "22.36\n",
      "<class 'float'>\n"
     ]
    }
   ],
   "source": [
    "#Q4. Create a list of length 10 of your choice containing multiple types of data. Using for loop print the \n",
    "#  element and its data type.\n",
    "\n",
    "list = [1,2,3,4,5,6,\"ryaz\",True,False,22.36]\n",
    "for i in list:\n",
    "    print(i)\n",
    "    print(type(i))"
   ]
  },
  {
   "cell_type": "code",
   "execution_count": null,
   "metadata": {},
   "outputs": [],
   "source": [
    "#Q5. Using a while loop, verify if the number A is purely divisible by number B and if so then how many\n",
    "# times it can be divisible.\n",
    "\n",
    "A = 10\n",
    "B = 100\n",
    "while A / B :\n",
    "    print"
   ]
  },
  {
   "cell_type": "code",
   "execution_count": 3,
   "metadata": {},
   "outputs": [
    {
     "ename": "NameError",
     "evalue": "name 'b' is not defined",
     "output_type": "error",
     "traceback": [
      "\u001b[1;31m---------------------------------------------------------------------------\u001b[0m",
      "\u001b[1;31mNameError\u001b[0m                                 Traceback (most recent call last)",
      "Cell \u001b[1;32mIn[3], line 15\u001b[0m\n\u001b[0;32m     13\u001b[0m \u001b[39m#Immutable \u001b[39;00m\n\u001b[0;32m     14\u001b[0m k \u001b[39m=\u001b[39m \u001b[39m\"\u001b[39m\u001b[39mryaz\u001b[39m\u001b[39m\"\u001b[39m\n\u001b[1;32m---> 15\u001b[0m k[\u001b[39m1\u001b[39m]\u001b[39m=\u001b[39mb\n",
      "\u001b[1;31mNameError\u001b[0m: name 'b' is not defined"
     ]
    }
   ],
   "source": [
    "#Q7. What do you understand about mutable and immutable data types? Give examples for both showing\n",
    "#  this property.\n",
    "\n",
    "# Mutable = in a list any object can be change by another object\n",
    "# immutable = It does't allow to change any object\n",
    "\n",
    "# Mutable\n",
    "list_2 = [1,2,3,\"ryaz\"]\n",
    "list_2[3] = \"beig\"\n",
    "list_2\n",
    "\n",
    "\n",
    "#Immutable \n",
    " #   k = \"ryaz\"\n",
    "#     k[1]=b"
   ]
  },
  {
   "cell_type": "code",
   "execution_count": null,
   "metadata": {},
   "outputs": [],
   "source": []
  }
 ],
 "metadata": {
  "kernelspec": {
   "display_name": "Python 3",
   "language": "python",
   "name": "python3"
  },
  "language_info": {
   "codemirror_mode": {
    "name": "ipython",
    "version": 3
   },
   "file_extension": ".py",
   "mimetype": "text/x-python",
   "name": "python",
   "nbconvert_exporter": "python",
   "pygments_lexer": "ipython3",
   "version": "3.11.3"
  },
  "orig_nbformat": 4
 },
 "nbformat": 4,
 "nbformat_minor": 2
}
